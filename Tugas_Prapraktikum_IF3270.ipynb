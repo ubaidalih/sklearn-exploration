{
 "cells": [
  {
   "attachments": {},
   "cell_type": "markdown",
   "metadata": {
    "id": "bdq8ydSd4xUy"
   },
   "source": [
    "# Tugas Prapraktikum\n",
    "\n",
    "Tugas Prapraktikum dikerjakan dengan _dataset_ [Rain in Australia](https://www.kaggle.com/datasets/jsphyg/weather-dataset-rattle-package/download?datasetVersionNumber=2). Tanpa meninjau waktu (`date`), prediksi status hujan pada keesokan harinya (`RainTomorrow`). Berikan nilai `1` jika diprediksi hujan pada keesokan harinya, `0` jika tidak.\n",
    "\n",
    "<br>\n",
    "Tugas dikerjakan secara berkelompok. Setiap kelompok terdiri atas 2 (dua) mahasiswa. Kumpulkan paling lambat pada Minggu, 16 April 2023, pukul 23:59 WIB melalui Edunex."
   ]
  },
  {
   "attachments": {},
   "cell_type": "markdown",
   "metadata": {
    "id": "XAHqneEY7b7b"
   },
   "source": [
    "# 0. Persiapan Data and Pustaka"
   ]
  },
  {
   "cell_type": "code",
   "execution_count": null,
   "metadata": {},
   "outputs": [],
   "source": [
    "# Bagian ini dapat diabaikan apabila library telah diinstall\n",
    "!python -m pip install pandas matplotlib seaborn numpy sklearn imblearn"
   ]
  },
  {
   "cell_type": "code",
   "execution_count": 47,
   "metadata": {
    "id": "zsBbpcIi7fHi"
   },
   "outputs": [],
   "source": [
    "# Letakkan pustaka di sini.\n",
    "import pandas as pd\n",
    "import numpy as np\n",
    "import matplotlib.pyplot as plt\n",
    "import seaborn as sns\n",
    "sns.set_theme()\n",
    "\n",
    "SEED = 42"
   ]
  },
  {
   "cell_type": "code",
   "execution_count": 20,
   "metadata": {
    "id": "OWLkjeKo7gdD"
   },
   "outputs": [],
   "source": [
    "# Baca data di sini.\n",
    "df = pd.read_csv(r'weatherAUS.csv')"
   ]
  },
  {
   "attachments": {},
   "cell_type": "markdown",
   "metadata": {
    "id": "JYGzyrantR1r"
   },
   "source": [
    "# I. Pemahaman Data\n",
    "Tujuan dari bagian ini adalah peserta dapat memahami kualitas dari data yang diberikan. Hal yang diliputi adalah sebagai berikut:\n",
    "1. Ukuran data\n",
    "2. Statistik dari tiap fitur\n",
    "3. Pencilan (_outlier_)\n",
    "4. Korelasi\n",
    "5. Distribusi "
   ]
  },
  {
   "attachments": {},
   "cell_type": "markdown",
   "metadata": {
    "id": "8SMf9-ikuoCe"
   },
   "source": [
    "## I.1 \n",
    "Carilah:\n",
    "1. Ukuran dari data (instansi dan fitur)\n",
    "2. Tipe dari setiap fitur \n",
    "3. Banyak nilai unik dari fitur yang bertipe kategorikal\n",
    "4. Nilai minimum, maksimum, rata-rata, median, dan standar deviasi dari fitur nonkategorikal"
   ]
  },
  {
   "attachments": {},
   "cell_type": "markdown",
   "metadata": {},
   "source": [
    "1. Ukuran dari data (instansi dan fitur)"
   ]
  },
  {
   "cell_type": "code",
   "execution_count": 48,
   "metadata": {
    "id": "SAxrfZySuM3-"
   },
   "outputs": [
    {
     "data": {
      "text/html": [
       "<div>\n",
       "<style scoped>\n",
       "    .dataframe tbody tr th:only-of-type {\n",
       "        vertical-align: middle;\n",
       "    }\n",
       "\n",
       "    .dataframe tbody tr th {\n",
       "        vertical-align: top;\n",
       "    }\n",
       "\n",
       "    .dataframe thead th {\n",
       "        text-align: right;\n",
       "    }\n",
       "</style>\n",
       "<table border=\"1\" class=\"dataframe\">\n",
       "  <thead>\n",
       "    <tr style=\"text-align: right;\">\n",
       "      <th></th>\n",
       "      <th>Amount</th>\n",
       "    </tr>\n",
       "  </thead>\n",
       "  <tbody>\n",
       "    <tr>\n",
       "      <th>Instance</th>\n",
       "      <td>145460</td>\n",
       "    </tr>\n",
       "    <tr>\n",
       "      <th>Attribute</th>\n",
       "      <td>23</td>\n",
       "    </tr>\n",
       "  </tbody>\n",
       "</table>\n",
       "</div>"
      ],
      "text/plain": [
       "           Amount\n",
       "Instance   145460\n",
       "Attribute      23"
      ]
     },
     "execution_count": 48,
     "metadata": {},
     "output_type": "execute_result"
    }
   ],
   "source": [
    "# I.1.1 Ukuran Instances dan Attributes\n",
    "pd.DataFrame({\n",
    "    'Instance': [df.shape[0]],\n",
    "    'Attribute': [df.shape[1]],\n",
    "}, index=[\"Amount\"]).T"
   ]
  },
  {
   "attachments": {},
   "cell_type": "markdown",
   "metadata": {},
   "source": [
    "2. Tipe dari setiap fitur "
   ]
  },
  {
   "cell_type": "code",
   "execution_count": 49,
   "metadata": {},
   "outputs": [
    {
     "data": {
      "text/html": [
       "<div>\n",
       "<style scoped>\n",
       "    .dataframe tbody tr th:only-of-type {\n",
       "        vertical-align: middle;\n",
       "    }\n",
       "\n",
       "    .dataframe tbody tr th {\n",
       "        vertical-align: top;\n",
       "    }\n",
       "\n",
       "    .dataframe thead th {\n",
       "        text-align: right;\n",
       "    }\n",
       "</style>\n",
       "<table border=\"1\" class=\"dataframe\">\n",
       "  <thead>\n",
       "    <tr style=\"text-align: right;\">\n",
       "      <th></th>\n",
       "      <th>Type</th>\n",
       "      <th>Example</th>\n",
       "    </tr>\n",
       "  </thead>\n",
       "  <tbody>\n",
       "    <tr>\n",
       "      <th>Date</th>\n",
       "      <td>object</td>\n",
       "      <td>2012-04-22</td>\n",
       "    </tr>\n",
       "    <tr>\n",
       "      <th>Location</th>\n",
       "      <td>category</td>\n",
       "      <td>MountGambier</td>\n",
       "    </tr>\n",
       "    <tr>\n",
       "      <th>MinTemp</th>\n",
       "      <td>float64</td>\n",
       "      <td>15.0</td>\n",
       "    </tr>\n",
       "    <tr>\n",
       "      <th>MaxTemp</th>\n",
       "      <td>float64</td>\n",
       "      <td>18.9</td>\n",
       "    </tr>\n",
       "    <tr>\n",
       "      <th>Rainfall</th>\n",
       "      <td>float64</td>\n",
       "      <td>4.2</td>\n",
       "    </tr>\n",
       "    <tr>\n",
       "      <th>Evaporation</th>\n",
       "      <td>float64</td>\n",
       "      <td>6.6</td>\n",
       "    </tr>\n",
       "    <tr>\n",
       "      <th>Sunshine</th>\n",
       "      <td>float64</td>\n",
       "      <td>8.0</td>\n",
       "    </tr>\n",
       "    <tr>\n",
       "      <th>WindGustDir</th>\n",
       "      <td>category</td>\n",
       "      <td>NNW</td>\n",
       "    </tr>\n",
       "    <tr>\n",
       "      <th>WindGustSpeed</th>\n",
       "      <td>float64</td>\n",
       "      <td>54.0</td>\n",
       "    </tr>\n",
       "    <tr>\n",
       "      <th>WindDir9am</th>\n",
       "      <td>category</td>\n",
       "      <td>NNW</td>\n",
       "    </tr>\n",
       "    <tr>\n",
       "      <th>WindDir3pm</th>\n",
       "      <td>category</td>\n",
       "      <td>NW</td>\n",
       "    </tr>\n",
       "    <tr>\n",
       "      <th>WindSpeed9am</th>\n",
       "      <td>float64</td>\n",
       "      <td>24.0</td>\n",
       "    </tr>\n",
       "    <tr>\n",
       "      <th>WindSpeed3pm</th>\n",
       "      <td>float64</td>\n",
       "      <td>31.0</td>\n",
       "    </tr>\n",
       "    <tr>\n",
       "      <th>Humidity9am</th>\n",
       "      <td>float64</td>\n",
       "      <td>73.0</td>\n",
       "    </tr>\n",
       "    <tr>\n",
       "      <th>Humidity3pm</th>\n",
       "      <td>float64</td>\n",
       "      <td>64.0</td>\n",
       "    </tr>\n",
       "    <tr>\n",
       "      <th>Pressure9am</th>\n",
       "      <td>float64</td>\n",
       "      <td>1005.2</td>\n",
       "    </tr>\n",
       "    <tr>\n",
       "      <th>Pressure3pm</th>\n",
       "      <td>float64</td>\n",
       "      <td>1003.7</td>\n",
       "    </tr>\n",
       "    <tr>\n",
       "      <th>Cloud9am</th>\n",
       "      <td>float64</td>\n",
       "      <td>4.0</td>\n",
       "    </tr>\n",
       "    <tr>\n",
       "      <th>Cloud3pm</th>\n",
       "      <td>float64</td>\n",
       "      <td>5.0</td>\n",
       "    </tr>\n",
       "    <tr>\n",
       "      <th>Temp9am</th>\n",
       "      <td>float64</td>\n",
       "      <td>17.3</td>\n",
       "    </tr>\n",
       "    <tr>\n",
       "      <th>Temp3pm</th>\n",
       "      <td>float64</td>\n",
       "      <td>17.6</td>\n",
       "    </tr>\n",
       "    <tr>\n",
       "      <th>RainToday</th>\n",
       "      <td>category</td>\n",
       "      <td>Yes</td>\n",
       "    </tr>\n",
       "    <tr>\n",
       "      <th>RainTomorrow</th>\n",
       "      <td>category</td>\n",
       "      <td>Yes</td>\n",
       "    </tr>\n",
       "  </tbody>\n",
       "</table>\n",
       "</div>"
      ],
      "text/plain": [
       "                   Type       Example\n",
       "Date             object    2012-04-22\n",
       "Location       category  MountGambier\n",
       "MinTemp         float64          15.0\n",
       "MaxTemp         float64          18.9\n",
       "Rainfall        float64           4.2\n",
       "Evaporation     float64           6.6\n",
       "Sunshine        float64           8.0\n",
       "WindGustDir    category           NNW\n",
       "WindGustSpeed   float64          54.0\n",
       "WindDir9am     category           NNW\n",
       "WindDir3pm     category            NW\n",
       "WindSpeed9am    float64          24.0\n",
       "WindSpeed3pm    float64          31.0\n",
       "Humidity9am     float64          73.0\n",
       "Humidity3pm     float64          64.0\n",
       "Pressure9am     float64        1005.2\n",
       "Pressure3pm     float64        1003.7\n",
       "Cloud9am        float64           4.0\n",
       "Cloud3pm        float64           5.0\n",
       "Temp9am         float64          17.3\n",
       "Temp3pm         float64          17.6\n",
       "RainToday      category           Yes\n",
       "RainTomorrow   category           Yes"
      ]
     },
     "execution_count": 49,
     "metadata": {},
     "output_type": "execute_result"
    }
   ],
   "source": [
    "# create dataframe for each attribute data types with one example from data\n",
    "pd.DataFrame({\n",
    "    'Type': df.dtypes,\n",
    "    'Example': df.sample(1, random_state=SEED).values[0]\n",
    "})"
   ]
  },
  {
   "cell_type": "code",
   "execution_count": 50,
   "metadata": {},
   "outputs": [],
   "source": [
    "# Convert object datatype to category to minimize memory overhead\n",
    "df = df.astype({\n",
    "    'Location': 'category',\n",
    "    'WindGustDir': 'category',\n",
    "    'WindDir9am': 'category',\n",
    "    'WindDir3pm': 'category',\n",
    "    'RainToday': 'category',\n",
    "    'RainTomorrow': 'category',\n",
    "})\n"
   ]
  },
  {
   "attachments": {},
   "cell_type": "markdown",
   "metadata": {},
   "source": [
    "3. Banyak nilai unik dari fitur yang bertipe kategorikal"
   ]
  },
  {
   "cell_type": "code",
   "execution_count": 51,
   "metadata": {},
   "outputs": [
    {
     "data": {
      "text/html": [
       "<div>\n",
       "<style scoped>\n",
       "    .dataframe tbody tr th:only-of-type {\n",
       "        vertical-align: middle;\n",
       "    }\n",
       "\n",
       "    .dataframe tbody tr th {\n",
       "        vertical-align: top;\n",
       "    }\n",
       "\n",
       "    .dataframe thead th {\n",
       "        text-align: right;\n",
       "    }\n",
       "</style>\n",
       "<table border=\"1\" class=\"dataframe\">\n",
       "  <thead>\n",
       "    <tr style=\"text-align: right;\">\n",
       "      <th></th>\n",
       "      <th>Unique Value</th>\n",
       "    </tr>\n",
       "  </thead>\n",
       "  <tbody>\n",
       "    <tr>\n",
       "      <th>Location</th>\n",
       "      <td>49</td>\n",
       "    </tr>\n",
       "    <tr>\n",
       "      <th>WindGustDir</th>\n",
       "      <td>16</td>\n",
       "    </tr>\n",
       "    <tr>\n",
       "      <th>WindDir9am</th>\n",
       "      <td>16</td>\n",
       "    </tr>\n",
       "    <tr>\n",
       "      <th>WindDir3pm</th>\n",
       "      <td>16</td>\n",
       "    </tr>\n",
       "    <tr>\n",
       "      <th>RainToday</th>\n",
       "      <td>2</td>\n",
       "    </tr>\n",
       "    <tr>\n",
       "      <th>RainTomorrow</th>\n",
       "      <td>2</td>\n",
       "    </tr>\n",
       "  </tbody>\n",
       "</table>\n",
       "</div>"
      ],
      "text/plain": [
       "              Unique Value\n",
       "Location                49\n",
       "WindGustDir             16\n",
       "WindDir9am              16\n",
       "WindDir3pm              16\n",
       "RainToday                2\n",
       "RainTomorrow             2"
      ]
     },
     "execution_count": 51,
     "metadata": {},
     "output_type": "execute_result"
    }
   ],
   "source": [
    "# Unique value amount for category columns\n",
    "pd.DataFrame({\n",
    "    'Unique Value': df.select_dtypes('category').nunique()\n",
    "})"
   ]
  },
  {
   "attachments": {},
   "cell_type": "markdown",
   "metadata": {},
   "source": [
    "4. Nilai minimum, maksimum, rata-rata, median, dan standar deviasi dari fitur nonkategorikal"
   ]
  },
  {
   "cell_type": "code",
   "execution_count": 52,
   "metadata": {},
   "outputs": [
    {
     "data": {
      "text/html": [
       "<div>\n",
       "<style scoped>\n",
       "    .dataframe tbody tr th:only-of-type {\n",
       "        vertical-align: middle;\n",
       "    }\n",
       "\n",
       "    .dataframe tbody tr th {\n",
       "        vertical-align: top;\n",
       "    }\n",
       "\n",
       "    .dataframe thead th {\n",
       "        text-align: right;\n",
       "    }\n",
       "</style>\n",
       "<table border=\"1\" class=\"dataframe\">\n",
       "  <thead>\n",
       "    <tr style=\"text-align: right;\">\n",
       "      <th></th>\n",
       "      <th>Min</th>\n",
       "      <th>Max</th>\n",
       "      <th>Mean</th>\n",
       "      <th>Median</th>\n",
       "      <th>Std</th>\n",
       "    </tr>\n",
       "  </thead>\n",
       "  <tbody>\n",
       "    <tr>\n",
       "      <th>MinTemp</th>\n",
       "      <td>-8.5</td>\n",
       "      <td>33.9</td>\n",
       "      <td>12.194034</td>\n",
       "      <td>12.0</td>\n",
       "      <td>6.398495</td>\n",
       "    </tr>\n",
       "    <tr>\n",
       "      <th>MaxTemp</th>\n",
       "      <td>-4.8</td>\n",
       "      <td>48.1</td>\n",
       "      <td>23.221348</td>\n",
       "      <td>22.6</td>\n",
       "      <td>7.119049</td>\n",
       "    </tr>\n",
       "    <tr>\n",
       "      <th>Rainfall</th>\n",
       "      <td>0.0</td>\n",
       "      <td>371.0</td>\n",
       "      <td>2.360918</td>\n",
       "      <td>0.0</td>\n",
       "      <td>8.478060</td>\n",
       "    </tr>\n",
       "    <tr>\n",
       "      <th>Evaporation</th>\n",
       "      <td>0.0</td>\n",
       "      <td>145.0</td>\n",
       "      <td>5.468232</td>\n",
       "      <td>4.8</td>\n",
       "      <td>4.193704</td>\n",
       "    </tr>\n",
       "    <tr>\n",
       "      <th>Sunshine</th>\n",
       "      <td>0.0</td>\n",
       "      <td>14.5</td>\n",
       "      <td>7.611178</td>\n",
       "      <td>8.4</td>\n",
       "      <td>3.785483</td>\n",
       "    </tr>\n",
       "    <tr>\n",
       "      <th>WindGustSpeed</th>\n",
       "      <td>6.0</td>\n",
       "      <td>135.0</td>\n",
       "      <td>40.035230</td>\n",
       "      <td>39.0</td>\n",
       "      <td>13.607062</td>\n",
       "    </tr>\n",
       "    <tr>\n",
       "      <th>WindSpeed9am</th>\n",
       "      <td>0.0</td>\n",
       "      <td>130.0</td>\n",
       "      <td>14.043426</td>\n",
       "      <td>13.0</td>\n",
       "      <td>8.915375</td>\n",
       "    </tr>\n",
       "    <tr>\n",
       "      <th>WindSpeed3pm</th>\n",
       "      <td>0.0</td>\n",
       "      <td>87.0</td>\n",
       "      <td>18.662657</td>\n",
       "      <td>19.0</td>\n",
       "      <td>8.809800</td>\n",
       "    </tr>\n",
       "    <tr>\n",
       "      <th>Humidity9am</th>\n",
       "      <td>0.0</td>\n",
       "      <td>100.0</td>\n",
       "      <td>68.880831</td>\n",
       "      <td>70.0</td>\n",
       "      <td>19.029164</td>\n",
       "    </tr>\n",
       "    <tr>\n",
       "      <th>Humidity3pm</th>\n",
       "      <td>0.0</td>\n",
       "      <td>100.0</td>\n",
       "      <td>51.539116</td>\n",
       "      <td>52.0</td>\n",
       "      <td>20.795902</td>\n",
       "    </tr>\n",
       "    <tr>\n",
       "      <th>Pressure9am</th>\n",
       "      <td>980.5</td>\n",
       "      <td>1041.0</td>\n",
       "      <td>1017.649940</td>\n",
       "      <td>1017.6</td>\n",
       "      <td>7.106530</td>\n",
       "    </tr>\n",
       "    <tr>\n",
       "      <th>Pressure3pm</th>\n",
       "      <td>977.1</td>\n",
       "      <td>1039.6</td>\n",
       "      <td>1015.255889</td>\n",
       "      <td>1015.2</td>\n",
       "      <td>7.037414</td>\n",
       "    </tr>\n",
       "    <tr>\n",
       "      <th>Cloud9am</th>\n",
       "      <td>0.0</td>\n",
       "      <td>9.0</td>\n",
       "      <td>4.447461</td>\n",
       "      <td>5.0</td>\n",
       "      <td>2.887159</td>\n",
       "    </tr>\n",
       "    <tr>\n",
       "      <th>Cloud3pm</th>\n",
       "      <td>0.0</td>\n",
       "      <td>9.0</td>\n",
       "      <td>4.509930</td>\n",
       "      <td>5.0</td>\n",
       "      <td>2.720357</td>\n",
       "    </tr>\n",
       "    <tr>\n",
       "      <th>Temp9am</th>\n",
       "      <td>-7.2</td>\n",
       "      <td>40.2</td>\n",
       "      <td>16.990631</td>\n",
       "      <td>16.7</td>\n",
       "      <td>6.488753</td>\n",
       "    </tr>\n",
       "    <tr>\n",
       "      <th>Temp3pm</th>\n",
       "      <td>-5.4</td>\n",
       "      <td>46.7</td>\n",
       "      <td>21.683390</td>\n",
       "      <td>21.1</td>\n",
       "      <td>6.936650</td>\n",
       "    </tr>\n",
       "  </tbody>\n",
       "</table>\n",
       "</div>"
      ],
      "text/plain": [
       "                 Min     Max         Mean  Median        Std\n",
       "MinTemp         -8.5    33.9    12.194034    12.0   6.398495\n",
       "MaxTemp         -4.8    48.1    23.221348    22.6   7.119049\n",
       "Rainfall         0.0   371.0     2.360918     0.0   8.478060\n",
       "Evaporation      0.0   145.0     5.468232     4.8   4.193704\n",
       "Sunshine         0.0    14.5     7.611178     8.4   3.785483\n",
       "WindGustSpeed    6.0   135.0    40.035230    39.0  13.607062\n",
       "WindSpeed9am     0.0   130.0    14.043426    13.0   8.915375\n",
       "WindSpeed3pm     0.0    87.0    18.662657    19.0   8.809800\n",
       "Humidity9am      0.0   100.0    68.880831    70.0  19.029164\n",
       "Humidity3pm      0.0   100.0    51.539116    52.0  20.795902\n",
       "Pressure9am    980.5  1041.0  1017.649940  1017.6   7.106530\n",
       "Pressure3pm    977.1  1039.6  1015.255889  1015.2   7.037414\n",
       "Cloud9am         0.0     9.0     4.447461     5.0   2.887159\n",
       "Cloud3pm         0.0     9.0     4.509930     5.0   2.720357\n",
       "Temp9am         -7.2    40.2    16.990631    16.7   6.488753\n",
       "Temp3pm         -5.4    46.7    21.683390    21.1   6.936650"
      ]
     },
     "execution_count": 52,
     "metadata": {},
     "output_type": "execute_result"
    }
   ],
   "source": [
    "# Get min, max, mean, median, and std for numerical columns\n",
    "pd.DataFrame({\n",
    "    'Min': df.select_dtypes('number').min(),\n",
    "    'Max': df.select_dtypes('number').max(),\n",
    "    'Mean': df.select_dtypes('number').mean(),\n",
    "    'Median': df.select_dtypes('number').median(),\n",
    "    'Std': df.select_dtypes('number').std(),\n",
    "})"
   ]
  },
  {
   "attachments": {},
   "cell_type": "markdown",
   "metadata": {
    "id": "VE1l_gOTwHuz"
   },
   "source": [
    "## I.2\n",
    "Carilah:\n",
    "1. Nilai hilang (_missing_) dari setiap fitur\n",
    "2. Nilai pencilan (_outlier_) dari setiap fitur"
   ]
  },
  {
   "attachments": {},
   "cell_type": "markdown",
   "metadata": {},
   "source": [
    "1. Nilai hilang (_missing_) dari setiap fitur \n",
    "\n",
    "    Sorted descending based on Missing Percentage respective to the total number of instances"
   ]
  },
  {
   "cell_type": "code",
   "execution_count": 53,
   "metadata": {
    "id": "IGe-YWAvwQDr"
   },
   "outputs": [
    {
     "data": {
      "text/html": [
       "<div>\n",
       "<style scoped>\n",
       "    .dataframe tbody tr th:only-of-type {\n",
       "        vertical-align: middle;\n",
       "    }\n",
       "\n",
       "    .dataframe tbody tr th {\n",
       "        vertical-align: top;\n",
       "    }\n",
       "\n",
       "    .dataframe thead th {\n",
       "        text-align: right;\n",
       "    }\n",
       "</style>\n",
       "<table border=\"1\" class=\"dataframe\">\n",
       "  <thead>\n",
       "    <tr style=\"text-align: right;\">\n",
       "      <th></th>\n",
       "      <th>Missing Value</th>\n",
       "      <th>Missing (%)</th>\n",
       "    </tr>\n",
       "  </thead>\n",
       "  <tbody>\n",
       "    <tr>\n",
       "      <th>Sunshine</th>\n",
       "      <td>69835</td>\n",
       "      <td>48.0</td>\n",
       "    </tr>\n",
       "    <tr>\n",
       "      <th>Evaporation</th>\n",
       "      <td>62790</td>\n",
       "      <td>43.2</td>\n",
       "    </tr>\n",
       "    <tr>\n",
       "      <th>Cloud3pm</th>\n",
       "      <td>59358</td>\n",
       "      <td>40.8</td>\n",
       "    </tr>\n",
       "    <tr>\n",
       "      <th>Cloud9am</th>\n",
       "      <td>55888</td>\n",
       "      <td>38.4</td>\n",
       "    </tr>\n",
       "    <tr>\n",
       "      <th>Pressure9am</th>\n",
       "      <td>15065</td>\n",
       "      <td>10.4</td>\n",
       "    </tr>\n",
       "    <tr>\n",
       "      <th>Pressure3pm</th>\n",
       "      <td>15028</td>\n",
       "      <td>10.3</td>\n",
       "    </tr>\n",
       "    <tr>\n",
       "      <th>WindDir9am</th>\n",
       "      <td>10566</td>\n",
       "      <td>7.3</td>\n",
       "    </tr>\n",
       "    <tr>\n",
       "      <th>WindGustDir</th>\n",
       "      <td>10326</td>\n",
       "      <td>7.1</td>\n",
       "    </tr>\n",
       "    <tr>\n",
       "      <th>WindGustSpeed</th>\n",
       "      <td>10263</td>\n",
       "      <td>7.1</td>\n",
       "    </tr>\n",
       "    <tr>\n",
       "      <th>Humidity3pm</th>\n",
       "      <td>4507</td>\n",
       "      <td>3.1</td>\n",
       "    </tr>\n",
       "    <tr>\n",
       "      <th>WindDir3pm</th>\n",
       "      <td>4228</td>\n",
       "      <td>2.9</td>\n",
       "    </tr>\n",
       "    <tr>\n",
       "      <th>Temp3pm</th>\n",
       "      <td>3609</td>\n",
       "      <td>2.5</td>\n",
       "    </tr>\n",
       "    <tr>\n",
       "      <th>RainTomorrow</th>\n",
       "      <td>3267</td>\n",
       "      <td>2.2</td>\n",
       "    </tr>\n",
       "    <tr>\n",
       "      <th>Rainfall</th>\n",
       "      <td>3261</td>\n",
       "      <td>2.2</td>\n",
       "    </tr>\n",
       "    <tr>\n",
       "      <th>RainToday</th>\n",
       "      <td>3261</td>\n",
       "      <td>2.2</td>\n",
       "    </tr>\n",
       "    <tr>\n",
       "      <th>WindSpeed3pm</th>\n",
       "      <td>3062</td>\n",
       "      <td>2.1</td>\n",
       "    </tr>\n",
       "    <tr>\n",
       "      <th>Humidity9am</th>\n",
       "      <td>2654</td>\n",
       "      <td>1.8</td>\n",
       "    </tr>\n",
       "    <tr>\n",
       "      <th>Temp9am</th>\n",
       "      <td>1767</td>\n",
       "      <td>1.2</td>\n",
       "    </tr>\n",
       "    <tr>\n",
       "      <th>WindSpeed9am</th>\n",
       "      <td>1767</td>\n",
       "      <td>1.2</td>\n",
       "    </tr>\n",
       "    <tr>\n",
       "      <th>MinTemp</th>\n",
       "      <td>1485</td>\n",
       "      <td>1.0</td>\n",
       "    </tr>\n",
       "    <tr>\n",
       "      <th>MaxTemp</th>\n",
       "      <td>1261</td>\n",
       "      <td>0.9</td>\n",
       "    </tr>\n",
       "    <tr>\n",
       "      <th>Location</th>\n",
       "      <td>0</td>\n",
       "      <td>0.0</td>\n",
       "    </tr>\n",
       "    <tr>\n",
       "      <th>Date</th>\n",
       "      <td>0</td>\n",
       "      <td>0.0</td>\n",
       "    </tr>\n",
       "  </tbody>\n",
       "</table>\n",
       "</div>"
      ],
      "text/plain": [
       "               Missing Value  Missing (%)\n",
       "Sunshine               69835         48.0\n",
       "Evaporation            62790         43.2\n",
       "Cloud3pm               59358         40.8\n",
       "Cloud9am               55888         38.4\n",
       "Pressure9am            15065         10.4\n",
       "Pressure3pm            15028         10.3\n",
       "WindDir9am             10566          7.3\n",
       "WindGustDir            10326          7.1\n",
       "WindGustSpeed          10263          7.1\n",
       "Humidity3pm             4507          3.1\n",
       "WindDir3pm              4228          2.9\n",
       "Temp3pm                 3609          2.5\n",
       "RainTomorrow            3267          2.2\n",
       "Rainfall                3261          2.2\n",
       "RainToday               3261          2.2\n",
       "WindSpeed3pm            3062          2.1\n",
       "Humidity9am             2654          1.8\n",
       "Temp9am                 1767          1.2\n",
       "WindSpeed9am            1767          1.2\n",
       "MinTemp                 1485          1.0\n",
       "MaxTemp                 1261          0.9\n",
       "Location                   0          0.0\n",
       "Date                       0          0.0"
      ]
     },
     "execution_count": 53,
     "metadata": {},
     "output_type": "execute_result"
    }
   ],
   "source": [
    "pd.DataFrame({\n",
    "    'Missing Value': df.isna().sum(),\n",
    "    'Missing (%)' : np.round(df.isna().sum() / df.shape[0] * 100, 1)\n",
    "}).sort_values(by='Missing Value', ascending=False)"
   ]
  },
  {
   "attachments": {},
   "cell_type": "markdown",
   "metadata": {},
   "source": [
    "2. Nilai pencilan (_outlier_) dari setiap fitur\n",
    "\n",
    "    Using Interquartile Range (IQR) method"
   ]
  },
  {
   "cell_type": "code",
   "execution_count": 54,
   "metadata": {},
   "outputs": [
    {
     "data": {
      "text/html": [
       "<div>\n",
       "<style scoped>\n",
       "    .dataframe tbody tr th:only-of-type {\n",
       "        vertical-align: middle;\n",
       "    }\n",
       "\n",
       "    .dataframe tbody tr th {\n",
       "        vertical-align: top;\n",
       "    }\n",
       "\n",
       "    .dataframe thead th {\n",
       "        text-align: right;\n",
       "    }\n",
       "</style>\n",
       "<table border=\"1\" class=\"dataframe\">\n",
       "  <thead>\n",
       "    <tr style=\"text-align: right;\">\n",
       "      <th></th>\n",
       "      <th>IQR</th>\n",
       "      <th>Bottom Threshold</th>\n",
       "      <th>Top Threshold</th>\n",
       "      <th>Outlier Amount</th>\n",
       "    </tr>\n",
       "  </thead>\n",
       "  <tbody>\n",
       "    <tr>\n",
       "      <th>Rainfall</th>\n",
       "      <td>0.8</td>\n",
       "      <td>-1.20</td>\n",
       "      <td>2.00</td>\n",
       "      <td>25578</td>\n",
       "    </tr>\n",
       "    <tr>\n",
       "      <th>WindGustSpeed</th>\n",
       "      <td>17.0</td>\n",
       "      <td>5.50</td>\n",
       "      <td>73.50</td>\n",
       "      <td>3092</td>\n",
       "    </tr>\n",
       "    <tr>\n",
       "      <th>WindSpeed3pm</th>\n",
       "      <td>11.0</td>\n",
       "      <td>-3.50</td>\n",
       "      <td>40.50</td>\n",
       "      <td>2523</td>\n",
       "    </tr>\n",
       "    <tr>\n",
       "      <th>Evaporation</th>\n",
       "      <td>4.8</td>\n",
       "      <td>-4.60</td>\n",
       "      <td>14.60</td>\n",
       "      <td>1995</td>\n",
       "    </tr>\n",
       "    <tr>\n",
       "      <th>WindSpeed9am</th>\n",
       "      <td>12.0</td>\n",
       "      <td>-11.00</td>\n",
       "      <td>37.00</td>\n",
       "      <td>1817</td>\n",
       "    </tr>\n",
       "    <tr>\n",
       "      <th>Humidity9am</th>\n",
       "      <td>26.0</td>\n",
       "      <td>18.00</td>\n",
       "      <td>122.00</td>\n",
       "      <td>1425</td>\n",
       "    </tr>\n",
       "    <tr>\n",
       "      <th>Pressure9am</th>\n",
       "      <td>9.5</td>\n",
       "      <td>998.65</td>\n",
       "      <td>1036.65</td>\n",
       "      <td>1191</td>\n",
       "    </tr>\n",
       "    <tr>\n",
       "      <th>Pressure3pm</th>\n",
       "      <td>9.6</td>\n",
       "      <td>996.00</td>\n",
       "      <td>1034.40</td>\n",
       "      <td>919</td>\n",
       "    </tr>\n",
       "    <tr>\n",
       "      <th>Temp3pm</th>\n",
       "      <td>9.8</td>\n",
       "      <td>1.90</td>\n",
       "      <td>41.10</td>\n",
       "      <td>764</td>\n",
       "    </tr>\n",
       "    <tr>\n",
       "      <th>MaxTemp</th>\n",
       "      <td>10.3</td>\n",
       "      <td>2.45</td>\n",
       "      <td>43.65</td>\n",
       "      <td>489</td>\n",
       "    </tr>\n",
       "    <tr>\n",
       "      <th>Temp9am</th>\n",
       "      <td>9.3</td>\n",
       "      <td>-1.65</td>\n",
       "      <td>35.55</td>\n",
       "      <td>262</td>\n",
       "    </tr>\n",
       "    <tr>\n",
       "      <th>MinTemp</th>\n",
       "      <td>9.3</td>\n",
       "      <td>-6.35</td>\n",
       "      <td>30.85</td>\n",
       "      <td>54</td>\n",
       "    </tr>\n",
       "    <tr>\n",
       "      <th>Sunshine</th>\n",
       "      <td>5.8</td>\n",
       "      <td>-3.90</td>\n",
       "      <td>19.30</td>\n",
       "      <td>0</td>\n",
       "    </tr>\n",
       "    <tr>\n",
       "      <th>Humidity3pm</th>\n",
       "      <td>29.0</td>\n",
       "      <td>-6.50</td>\n",
       "      <td>109.50</td>\n",
       "      <td>0</td>\n",
       "    </tr>\n",
       "    <tr>\n",
       "      <th>Cloud9am</th>\n",
       "      <td>6.0</td>\n",
       "      <td>-8.00</td>\n",
       "      <td>16.00</td>\n",
       "      <td>0</td>\n",
       "    </tr>\n",
       "    <tr>\n",
       "      <th>Cloud3pm</th>\n",
       "      <td>5.0</td>\n",
       "      <td>-5.50</td>\n",
       "      <td>14.50</td>\n",
       "      <td>0</td>\n",
       "    </tr>\n",
       "  </tbody>\n",
       "</table>\n",
       "</div>"
      ],
      "text/plain": [
       "                IQR  Bottom Threshold  Top Threshold  Outlier Amount\n",
       "Rainfall        0.8             -1.20           2.00           25578\n",
       "WindGustSpeed  17.0              5.50          73.50            3092\n",
       "WindSpeed3pm   11.0             -3.50          40.50            2523\n",
       "Evaporation     4.8             -4.60          14.60            1995\n",
       "WindSpeed9am   12.0            -11.00          37.00            1817\n",
       "Humidity9am    26.0             18.00         122.00            1425\n",
       "Pressure9am     9.5            998.65        1036.65            1191\n",
       "Pressure3pm     9.6            996.00        1034.40             919\n",
       "Temp3pm         9.8              1.90          41.10             764\n",
       "MaxTemp        10.3              2.45          43.65             489\n",
       "Temp9am         9.3             -1.65          35.55             262\n",
       "MinTemp         9.3             -6.35          30.85              54\n",
       "Sunshine        5.8             -3.90          19.30               0\n",
       "Humidity3pm    29.0             -6.50         109.50               0\n",
       "Cloud9am        6.0             -8.00          16.00               0\n",
       "Cloud3pm        5.0             -5.50          14.50               0"
      ]
     },
     "execution_count": 54,
     "metadata": {},
     "output_type": "execute_result"
    }
   ],
   "source": [
    "def iqr(x):\n",
    "    return x.quantile(0.75) - x.quantile(0.25)\n",
    "\n",
    "# Get IQR for numerical columns\n",
    "col_iqr = pd.DataFrame({\n",
    "    'IQR': df.select_dtypes('number').apply(iqr)\n",
    "})\n",
    "\n",
    "# Get outlier threshold for numerical columns\n",
    "col_iqr['Bottom Threshold'] = df.select_dtypes('number').quantile(0.25) - (1.5 * col_iqr['IQR'])\n",
    "col_iqr['Top Threshold'] = df.select_dtypes('number').quantile(0.75) + (1.5 * col_iqr['IQR'])\n",
    "\n",
    "# Get outlier amount for numerical columns\n",
    "col_iqr['Outlier Amount'] = df.select_dtypes('number').apply(lambda x: x[(x < col_iqr.loc[x.name, 'Bottom Threshold']) | (x > col_iqr.loc[x.name, 'Top Threshold'])].count())\n",
    "\n",
    "col_iqr.sort_values(by='Outlier Amount', ascending=False)"
   ]
  },
  {
   "attachments": {},
   "cell_type": "markdown",
   "metadata": {},
   "source": [
    "Outliers Plotting (with Boxplot) for each numerical feature"
   ]
  },
  {
   "cell_type": "code",
   "execution_count": 69,
   "metadata": {},
   "outputs": [
    {
     "data": {
      "image/png": "[encoded data removed]",
      "text/plain": [
       "<Figure size 2160x1440 with 16 Axes>"
      ]
     },
     "metadata": {},
     "output_type": "display_data"
    }
   ],
   "source": [
    "fig, axes = plt.subplots(4, 4, figsize=(30, 20))\n",
    "for i, col in enumerate(df.select_dtypes('number').columns):\n",
    "    sns.boxplot(data=df, x=col, ax=axes[i // 4, i % 4], orient='h')\n",
    "\n",
    "fig.suptitle('Boxplot for Numerical Columns', fontsize=20, fontweight='bold', fontname='Times New Roman', y=0.925)\n",
    "plt.show()"
   ]
  },
  {
   "attachments": {},
   "cell_type": "markdown",
   "metadata": {
    "id": "8tUGStQ_wR4P"
   },
   "source": [
    "## I.3\n",
    "Lakukan:\n",
    "1. Pencarian korelasi antarfitur\n",
    "2. Visualisasi distribusi setiap fitur (kategorikal dan kontinu)\n",
    "3. Visualisasi distribusi setiap fitur per target (`RainTomorrow`)"
   ]
  },
  {
   "cell_type": "code",
   "execution_count": null,
   "metadata": {
    "id": "XoBqyQA1wRNX"
   },
   "outputs": [],
   "source": [
    "# I.3 Kode di sini."
   ]
  },
  {
   "attachments": {},
   "cell_type": "markdown",
   "metadata": {
    "id": "kV3BDt235mdz"
   },
   "source": [
    "## I.4\n",
    "Lakukanlah analisis lebih lanjut jika diperlukan, kemudian lakukan hal berikut:\n",
    "1. Penambahan fitur jika memungkinkan\n",
    "2. Pembuangan fitur yang menurut kalian tidak dibutuhkan\n",
    "3. Penanganan nilai hilang\n",
    "4. Transformasi data kategorikal menjadi numerikal (_encoding_)\n",
    "5. _Scaling_ dengan `MinMaxScaler`"
   ]
  },
  {
   "cell_type": "code",
   "execution_count": null,
   "metadata": {
    "id": "jlTGspG_56re"
   },
   "outputs": [],
   "source": [
    "# I.4 Put your code here"
   ]
  },
  {
   "cell_type": "code",
   "execution_count": null,
   "metadata": {},
   "outputs": [],
   "source": []
  },
  {
   "attachments": {},
   "cell_type": "markdown",
   "metadata": {
    "id": "mt2zHZRauLIm"
   },
   "source": [
    "# II. Desain Eksperimen\n",
    "Tujuan dari bagian ini adalah peserta dapat memahami cara melakukan eksperimen mencari metode terbaik dengan benar. Hal yang diliputi adalah sebagai berikut:\n",
    "1. Pembuatan model\n",
    "2. Proses validasi\n",
    "3. _Hyperparameter tuning_"
   ]
  },
  {
   "attachments": {},
   "cell_type": "markdown",
   "metadata": {
    "id": "Kf4xsl8RydIt"
   },
   "source": [
    "## II.1\n",
    "Tentukanlah metrik yang akan digunakan pada eksperimen kali ini. Metrik yang dapat lebih dari satu jenis."
   ]
  },
  {
   "attachments": {},
   "cell_type": "markdown",
   "metadata": {
    "id": "S2I0axfj4OuC"
   },
   "source": [
    "(Tuliskan jawaban bagian II.1 di sini.)"
   ]
  },
  {
   "attachments": {},
   "cell_type": "markdown",
   "metadata": {
    "id": "FONT0OyUyoQG"
   },
   "source": [
    "## II.2 \n",
    "Bagi data dengan perbandingan 0,8 untuk data latih dan 0,2 untuk data validasi."
   ]
  },
  {
   "cell_type": "code",
   "execution_count": null,
   "metadata": {
    "id": "Gqa9nn5muMS2"
   },
   "outputs": [],
   "source": [
    "# II.2 Kode di sini"
   ]
  },
  {
   "attachments": {},
   "cell_type": "markdown",
   "metadata": {
    "id": "V4yS8O3tyyyh"
   },
   "source": [
    "## II.3\n",
    "Lakukan hal berikut:\n",
    "1. Prediksi dengan menggunakan model _logistic regression_ sebagai _baseline_.\n",
    "2. Tampilkan evaluasi dari model yang dibangun dari metrik yang ditentukan pada II.1\n",
    "3. Tampilkan _confusion matrix_."
   ]
  },
  {
   "cell_type": "code",
   "execution_count": null,
   "metadata": {
    "id": "EpEqAz94yyQo"
   },
   "outputs": [],
   "source": [
    "# II.3 Kode di sini"
   ]
  },
  {
   "attachments": {},
   "cell_type": "markdown",
   "metadata": {
    "id": "aFB2AlZfzU54"
   },
   "source": [
    "## II.4 \n",
    "Lakukanlah:\n",
    "1. Pembelajaran dengan model lain\n",
    "2. _Hyperparameter tuning_ untuk model yang dipakai dengan menggunakan _grid search_ (perhatikan _random factor_ pada beberapa algoritma model)\n",
    "3. Validasi dengan _cross validation_\n"
   ]
  },
  {
   "cell_type": "code",
   "execution_count": null,
   "metadata": {
    "id": "df0YVJ7dzUSc"
   },
   "outputs": [],
   "source": [
    "# II.4 Kode di sini."
   ]
  },
  {
   "attachments": {},
   "cell_type": "markdown",
   "metadata": {
    "id": "5ePIGuRZuNZb"
   },
   "source": [
    "# III. Improvement\n",
    "Pada bagian ini, kalian diharapkan dapat:\n",
    "1. melakukan pelatihan dengan data hasil _oversampling_ / _undersampling_, disertai dengan validasi yang benar; serta\n",
    "2. menerapkan beberapa metode untuk menggabungkan beberapa model.\n",
    "\n",
    "Kedua hal ini adalah contoh metode untuk meningkatkan kinerja dari model."
   ]
  },
  {
   "attachments": {},
   "cell_type": "markdown",
   "metadata": {
    "id": "NGgjXVqf1vhN"
   },
   "source": [
    "## III.1\n",
    "Lakukanlah:\n",
    "1. _Oversampling_ pada kelas minoritas pada data latih\n",
    "2. _Undersampling_ pada kelas mayoritas pada data latih\n",
    "\n",
    "Pada setiap tahap, latih dengan model *baseline* (II.3), dan validasi dengan data validasi. Data latih dan validasi adalah data yang disusun pada bagian II.2."
   ]
  },
  {
   "cell_type": "code",
   "execution_count": null,
   "metadata": {
    "id": "bLLLsyoF2GIM"
   },
   "outputs": [],
   "source": [
    "# III.1 Kode di sini."
   ]
  },
  {
   "attachments": {},
   "cell_type": "markdown",
   "metadata": {
    "id": "FtbGHN3P2Fxe"
   },
   "source": [
    "## III.2\n",
    "Lakukanlah:\n",
    "1. Eksplorasi _soft voting_, _hard voting_, dan _stacking_.\n",
    "2. Buatlah model _logistic regression_ dan SVM.\n",
    "3. Lakukanlah _soft voting_ dari model-model yang dibangun pada poin 2.\n",
    "4. Lakukan _hard voting_ dari model-model yang dibangun pada poin 2.\n",
    "5. Lakukanlah _stacking_ dengan _final classifier_ adalah _logistic regression_ dari model-model yang dibangun pada poin 2.\n",
    "6. Lakukan validasi dengan metrics yang telah ditentukan untuk poin 3, 4, dan 5."
   ]
  },
  {
   "attachments": {},
   "cell_type": "markdown",
   "metadata": {
    "id": "NfGqy72SAZ-t"
   },
   "source": [
    "(Tuliskan hasil eksplorasi III.2 poin 1 di sini.)"
   ]
  },
  {
   "cell_type": "code",
   "execution_count": null,
   "metadata": {
    "id": "zdchguBQtErx"
   },
   "outputs": [],
   "source": [
    "# III.2 Kode di sini.  "
   ]
  },
  {
   "attachments": {},
   "cell_type": "markdown",
   "metadata": {
    "id": "unmFXb-73OMD"
   },
   "source": [
    "# IV. Analisis\n",
    "Bandingkan hasil dari hal-hal berikut:\n",
    "1. Model _baseline_ (II.3)\n",
    "2. Model lain (II.4)\n",
    "3. Hasil _undersampling_\n",
    "4. Hasil _oversampling_\n",
    "5. Hasil _soft voting_\n",
    "6. Hasil _hard voting_\n",
    "7. Hasil _stacking_"
   ]
  },
  {
   "attachments": {},
   "cell_type": "markdown",
   "metadata": {
    "id": "e9x0VH2AAkwZ"
   },
   "source": [
    "(Tuliskan jawaban bagian IV di sini.)"
   ]
  }
 ],
 "metadata": {
  "colab": {
   "collapsed_sections": [],
   "name": "Tugas Pendahuluan IF3270.ipynb",
   "provenance": []
  },
  "kernelspec": {
   "display_name": "Python 3 (ipykernel)",
   "language": "python",
   "name": "python3"
  },
  "language_info": {
   "codemirror_mode": {
    "name": "ipython",
    "version": 3
   },
   "file_extension": ".py",
   "mimetype": "text/x-python",
   "name": "python",
   "nbconvert_exporter": "python",
   "pygments_lexer": "ipython3",
   "version": "3.9.8"
  }
 },
 "nbformat": 4,
 "nbformat_minor": 4
}
